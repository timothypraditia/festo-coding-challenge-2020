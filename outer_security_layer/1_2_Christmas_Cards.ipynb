{
 "cells": [
  {
   "cell_type": "markdown",
   "metadata": {},
   "source": [
    "# Christmas Cards\n"
   ]
  },
  {
   "cell_type": "markdown",
   "metadata": {},
   "source": [
    "The system admin has long working hours. If we help him save time, he will help us.\n",
    "\n",
    "Before he can go home today, he wants to deliver some christmas cards to his eights friends (Alice, Bob, Carla, David, Erica, Frank, Grace, Henry) who live nearby. His trip after work will look like this: work - friend - friend - ... - friend - home.\n",
    "\n",
    "He knows how much time (in minutes) he needs for the individual distances:\n",
    "\n",
    "        work  a   b   c   d   e   f   g   h  home\n",
    "    \n",
    "    work  -   6  10   4   1   9   2   9   7   -\n",
    "\n",
    "       a  -   -   8   7   4   3   5   5  12   5\n",
    "   \n",
    "       b  -  11   -  16  12  11  10   5  20  15\n",
    "   \n",
    "       c  -   7  13   -   3  10   5  11   4   5\n",
    "   \n",
    "       d  -   4  10   3   -   8   2   8   7   5\n",
    "   \n",
    "       e  -   3   8  11   8   -   8   4  15   7\n",
    "   \n",
    "       f  -   5   8   6   2   8   -   7  10   7\n",
    "   \n",
    "       g  -   6   4  13  10   6   8   -  17  11\n",
    "   \n",
    "       h  -  10  16   3   6  14   8  15   -   8\n",
    "   \n",
    "    home  -   -   -   -   -   -   -   -   -   -\n",
    "\n",
    "Labels on the left: starting points, labels on the top: destinations. For example, the trip from work to Alice (a) takes 6 minutes. Useless connections are left empty. Download table as csv."
   ]
  },
  {
   "cell_type": "code",
   "execution_count": 3,
   "metadata": {},
   "outputs": [
    {
     "name": "stdout",
     "output_type": "stream",
     "text": [
      "['h', 'c', 'd', 'f', 'b', 'g', 'e', 'a']\n"
     ]
    }
   ],
   "source": [
    "import numpy as np\n",
    "from numpy import genfromtxt\n",
    "from itertools import permutations\n",
    "\n",
    "# Extract table from csv file\n",
    "dist = genfromtxt('1_2_christmas_cards.csv', delimiter=',')\n",
    "\n",
    "# Generate permutations of 8 destinations\n",
    "route = np.array(list(permutations([1,2,3,4,5,6,7,8]))) \n",
    "\n",
    "# Combine the permutations with work at the beginning and home at the end\n",
    "work = np.zeros((route.shape[0],1))\n",
    "home = np.ones((route.shape[0],1))*9\n",
    "\n",
    "route = np.concatenate((work,route,home),axis=1)\n",
    "route = route.astype(int)\n",
    "\n",
    "# Initialize an array to store the distance for each corresponding route\n",
    "route_dist = np.zeros(route.shape[0])\n",
    "\n",
    "# Calculate distance for each corresponding route\n",
    "for i in range(len(route_dist)):\n",
    "    j = 0\n",
    "    while j < route.shape[1]-1:\n",
    "        route_dist[i] += dist[route[i,j],route[i,j+1]]\n",
    "        j += 1\n",
    "\n",
    "# Find the shortest route\n",
    "shortest = np.where(route_dist == min(route_dist))\n",
    "\n",
    "shortest = route[shortest].squeeze()\n",
    "shortest_route = []\n",
    "\n",
    "# Convert the route from numbers to strings\n",
    "for i in range(1,len(shortest)-1):\n",
    "    shortest_route.append(chr(ord('`')+shortest[i]))\n",
    "\n",
    "print(shortest_route)"
   ]
  },
  {
   "cell_type": "markdown",
   "metadata": {},
   "source": [
    "## Solution = hcdfbgea"
   ]
  }
 ],
 "metadata": {
  "kernelspec": {
   "display_name": "Python 3",
   "language": "python",
   "name": "python3"
  },
  "language_info": {
   "codemirror_mode": {
    "name": "ipython",
    "version": 3
   },
   "file_extension": ".py",
   "mimetype": "text/x-python",
   "name": "python",
   "nbconvert_exporter": "python",
   "pygments_lexer": "ipython3",
   "version": "3.8.3"
  }
 },
 "nbformat": 4,
 "nbformat_minor": 4
}
