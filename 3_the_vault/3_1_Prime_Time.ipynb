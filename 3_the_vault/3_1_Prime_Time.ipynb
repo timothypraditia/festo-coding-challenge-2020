{
 "cells": [
  {
   "cell_type": "markdown",
   "metadata": {},
   "source": [
    "# Prime Time\n"
   ]
  },
  {
   "cell_type": "markdown",
   "metadata": {},
   "source": [
    "In the third building of the company, room numbers follow this rule: A number can only be a room number, if its only prime factors are 7, 11 and 13.\n",
    "\n",
    "For example, the first valid room numbers are 1, 7, 11, 13, 49, 77, 91, 121, 143, 169,...\n",
    "\n",
    "The maintenance man needs to bring mail to the 200th room in the hallway. What is the room number of this room?"
   ]
  },
  {
   "cell_type": "code",
   "execution_count": 1,
   "metadata": {},
   "outputs": [
    {
     "name": "stdout",
     "output_type": "stream",
     "text": [
      "1185367183\n"
     ]
    }
   ],
   "source": [
    "import itertools\n",
    "\n",
    "# Set 7, 11, 13 as the only prime factors, and room number starts at 1\n",
    "prime = [7.0, 11.0, 13.0]\n",
    "room_num = [1]\n",
    "\n",
    "# Iterate starting from 1 factor until 15 factors\n",
    "for r in range(1,15):\n",
    "    \n",
    "    # Generate combinations of the factors and calculate the multiplication results\n",
    "    combr = list(itertools.combinations_with_replacement(prime, r))\n",
    "    for i in range(len(combr)):\n",
    "        temp = 1\n",
    "        for j in range(r):\n",
    "            temp *= combr[i][j]\n",
    "        room_num.append(temp)\n",
    "\n",
    "# Sort the results and search for the 200-th room number\n",
    "room_num.sort()\n",
    "print(int(room_num[199]))"
   ]
  },
  {
   "cell_type": "markdown",
   "metadata": {},
   "source": [
    "## Solution = 1185367183"
   ]
  }
 ],
 "metadata": {
  "kernelspec": {
   "display_name": "Python 3",
   "language": "python",
   "name": "python3"
  },
  "language_info": {
   "codemirror_mode": {
    "name": "ipython",
    "version": 3
   },
   "file_extension": ".py",
   "mimetype": "text/x-python",
   "name": "python",
   "nbconvert_exporter": "python",
   "pygments_lexer": "ipython3",
   "version": "3.8.3"
  }
 },
 "nbformat": 4,
 "nbformat_minor": 4
}
