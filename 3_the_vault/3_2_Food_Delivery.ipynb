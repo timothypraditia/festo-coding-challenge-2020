{
 "cells": [
  {
   "cell_type": "markdown",
   "metadata": {},
   "source": [
    "# Food Delivery\n"
   ]
  },
  {
   "cell_type": "markdown",
   "metadata": {},
   "source": [
    "To make up for his poor salary at THE EVIL COMPANY, the system admin works for a food delivery service on the way home. His job is to pick up meals from the five restaurants (r1,...,r5) in any order and bring them to the corresponding customers (c1,...,c5). After picking up one meal, he does not have to drive to the customer immediately. He can also pick up multiple meals first and then deliver them. The only constraint is that, on his bike, he can only carry three meals max. Travel times:\n",
    "\n",
    "        work r1  r2  r3  r4  r5  c1  c2  c3  c4  c5 home\n",
    "    work  -   6   3  22  20  10   -   -   -   -   -   -\n",
    "      r1  -   -   5  28  18   4  22  17   8  23  26   -\n",
    "      r2  -   4   -  23  18   7  17  12   8  19  21   -\n",
    "      r3  -  25  21   -  21  27   5  17  22   6   4   -\n",
    "      r4  -  20  20  25   -  16  19  28  10  17  26   -\n",
    "      r5  -   5   9  30  16   -  23  21   6  24  28   -\n",
    "      c1  -   -  16   6  16  21   -  14  16   3   6  16\n",
    "      c2  -  14   -  17  24  17  14   -  17  17  14  15\n",
    "      c3  -   9  10   -  10   6  19  21   -  18  24   3\n",
    "      c4  -  22  18   8   -  22   4  19  16   -  10  17\n",
    "      c5  -  23  18   4  22   -   5  13  21   8   -  20\n",
    "    home  -   -   -   -   -   -   -   -   -   -   -   -\n",
    "    \n",
    "Labels on the left: starting points, labels on the top: destinations. For example, the trip from r3 to r4 takes 21 minutes. Useless connections are left empty. Download table as csv.\n",
    "\n",
    "Find the shortest trip work - restaurant - ? - ? - ... - customer - home, such that each restaurant is visited before the corresponding customer and that the system admin never has more than three meals on his bike.\n",
    "\n",
    "The solution code consists of the restaurants and customers in order (for example r1c1r2r3r4c2c4r5c5c3)"
   ]
  },
  {
   "cell_type": "code",
   "execution_count": 2,
   "metadata": {},
   "outputs": [
    {
     "name": "stdout",
     "output_type": "stream",
     "text": [
      "r2c2r1r5r4c4r3c5c1c3\n"
     ]
    }
   ],
   "source": [
    "from itertools import permutations\n",
    "import numpy as np\n",
    "from numpy import genfromtxt\n",
    "\n",
    "# Extract table from csv file\n",
    "dist = genfromtxt('3_2_delivery_service.csv', delimiter=',')\n",
    "\n",
    "# Generate permutations of all destinations, and use only the first half (route has to start either from 1-5,\n",
    "# not allowed to start from 6-10)\n",
    "nums = np.arange(1,11)\n",
    "perm = list(permutations(nums))\n",
    "perm = perm[:len(perm)//2]\n",
    "\n",
    "# Store the restaurant and customer names in a dictionary, relating it to the integer values\n",
    "destination_dict = {1:\"r1\", 2:\"r2\", 3:\"r3\", 4:\"r4\", 5:\"r5\",\n",
    "                    6:\"c1\", 7:\"c2\", 8:\"c3\", 9:\"c4\", 10:\"c5\"}\n",
    "\n",
    "perm_final = []\n",
    "\n",
    "# Check the possible routes for maximum of 3 orders in the bag\n",
    "for i in range(len(perm)):\n",
    "    bag_capacity = []\n",
    "    j = 0\n",
    "    check = True\n",
    "    while j < len(perm[i]) and check == True:\n",
    "        \n",
    "        # If the destination is a restaurant and there are less than 3 orders in the bag, allow the permutation\n",
    "        if perm[i][j] <= 5 and len(bag_capacity) < 3:\n",
    "            bag_capacity.append(perm[i][j])\n",
    "        \n",
    "        # If the destination is a restaurant and there are already 3 orders in the bag, don't allow the permutation\n",
    "        elif perm[i][j] <= 5 and len(bag_capacity) == 3:\n",
    "            check = False\n",
    "        \n",
    "        # If the destination is a customer and the order is already picked up, allow the permutation\n",
    "        elif perm[i][j] > 5 and perm[i][j]-5 in bag_capacity:\n",
    "            bag_capacity.remove(perm[i][j]-5)\n",
    "        \n",
    "        # If the destination is a customer and the order isn't already picked up, don't allow the permutation\n",
    "        elif perm[i][j] > 5 and perm[i][j]-5 not in bag_capacity:\n",
    "            check = False\n",
    "        j += 1\n",
    "    \n",
    "    if check == True:\n",
    "        perm_final.append(perm[i])\n",
    "\n",
    "route = np.array(perm_final)\n",
    "\n",
    "# Combine the permutations with work at the beginning and home at the end\n",
    "work = np.zeros((route.shape[0],1))\n",
    "home = np.ones((route.shape[0],1))*11\n",
    "\n",
    "route = np.concatenate((work,route,home),axis=1)\n",
    "route = route.astype(int)\n",
    "\n",
    "# Initialize an array to store the distance for each corresponding route\n",
    "route_dist = np.zeros(route.shape[0])\n",
    "\n",
    "# Calculate distance for each corresponding route\n",
    "for i in range(len(route_dist)):\n",
    "    j = 0\n",
    "    while j < route.shape[1]-1:\n",
    "        route_dist[i] += dist[route[i,j],route[i,j+1]]\n",
    "        j += 1\n",
    "\n",
    "# Find the shortest route\n",
    "shortest = np.where(route_dist == min(route_dist))\n",
    "shortest = route[shortest].squeeze()\n",
    "\n",
    "shortest_route = ''\n",
    "\n",
    "# Convert the route from numbers to strings\n",
    "for i in range(1,len(shortest)-1):\n",
    "    shortest_route += destination_dict[shortest[i]]\n",
    "    \n",
    "print(shortest_route)"
   ]
  },
  {
   "cell_type": "markdown",
   "metadata": {},
   "source": [
    "## Solution = r2c2r1r5r4c4r3c5c1c3"
   ]
  }
 ],
 "metadata": {
  "kernelspec": {
   "display_name": "Python 3",
   "language": "python",
   "name": "python3"
  },
  "language_info": {
   "codemirror_mode": {
    "name": "ipython",
    "version": 3
   },
   "file_extension": ".py",
   "mimetype": "text/x-python",
   "name": "python",
   "nbconvert_exporter": "python",
   "pygments_lexer": "ipython3",
   "version": "3.8.3"
  }
 },
 "nbformat": 4,
 "nbformat_minor": 4
}
