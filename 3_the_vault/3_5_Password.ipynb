{
 "cells": [
  {
   "cell_type": "markdown",
   "metadata": {},
   "source": [
    "# The Vault\n"
   ]
  },
  {
   "cell_type": "markdown",
   "metadata": {},
   "source": [
    "Brute force to find the password.\n",
    "Parts of the password are known without any known orders: Ob, n0, and 6u, and md5-hash begins with a84ba651fd122ef5."
   ]
  },
  {
   "cell_type": "code",
   "execution_count": 4,
   "metadata": {},
   "outputs": [
    {
     "name": "stdout",
     "output_type": "stream",
     "text": [
      "n06uObqg\n"
     ]
    }
   ],
   "source": [
    "import hashlib\n",
    "import itertools\n",
    "import string\n",
    "\n",
    "# Generate all possible characters as strings for the password and generate combinations of them\n",
    "low_case = string.ascii_lowercase\n",
    "up_case = string.ascii_uppercase\n",
    "nums = string.digits\n",
    "\n",
    "chars = low_case + up_case + nums\n",
    "\n",
    "comb = list(itertools.product(chars,repeat=2))\n",
    "\n",
    "# Known characters and md5-hash of the password\n",
    "str1 = 'Ob'\n",
    "str2 = 'n0'\n",
    "str3 = '6u'\n",
    "match = 'a84ba651fd122ef5'\n",
    "\n",
    "# Generate all possible combinations of the characters with all possible orders\n",
    "full_str = []\n",
    "\n",
    "for i in comb:\n",
    "    full_str.append(str1+str2+str3+i[0]+i[1])\n",
    "    full_str.append(str1+str2+i[0]+i[1]+str3)\n",
    "    full_str.append(str1+i[0]+i[1]+str2+str3)\n",
    "    full_str.append(i[0]+i[1]+str1+str2+str3)\n",
    "    \n",
    "    full_str.append(str1+str3+str2+i[0]+i[1])\n",
    "    full_str.append(str1+str3+i[0]+i[1]+str2)\n",
    "    full_str.append(str1+i[0]+i[1]+str3+str2)\n",
    "    full_str.append(i[0]+i[1]+str1+str3+str2)\n",
    "    \n",
    "    full_str.append(str2+str1+str3+i[0]+i[1])\n",
    "    full_str.append(str2+str1+i[0]+i[1]+str3)\n",
    "    full_str.append(str2+i[0]+i[1]+str1+str3)\n",
    "    full_str.append(i[0]+i[1]+str2+str1+str3)\n",
    "    \n",
    "    full_str.append(str2+str3+str1+i[0]+i[1])\n",
    "    full_str.append(str2+str3+i[0]+i[1]+str1)\n",
    "    full_str.append(str2+i[0]+i[1]+str3+str1)\n",
    "    full_str.append(i[0]+i[1]+str2+str3+str1)\n",
    "    \n",
    "    full_str.append(str3+str1+str2+i[0]+i[1])\n",
    "    full_str.append(str3+str1+i[0]+i[1]+str2)\n",
    "    full_str.append(str3+i[0]+i[1]+str1+str2)\n",
    "    full_str.append(i[0]+i[1]+str3+str1+str2)\n",
    "    \n",
    "    full_str.append(str3+str2+str1+i[0]+i[1])\n",
    "    full_str.append(str3+str2+i[0]+i[1]+str1)\n",
    "    full_str.append(str3+i[0]+i[1]+str2+str1)\n",
    "    full_str.append(i[0]+i[1]+str3+str2+str1)\n",
    "\n",
    "# Brute force through iterations to find the password matching the md5-hash\n",
    "for i in range(len(full_str)):\n",
    "    md5_result = hashlib.md5(full_str[i].encode()).hexdigest()\n",
    "    if match in md5_result:\n",
    "        print(full_str[i])\n",
    "        break"
   ]
  },
  {
   "cell_type": "markdown",
   "metadata": {},
   "source": [
    "## Password = n06uObqg"
   ]
  }
 ],
 "metadata": {
  "kernelspec": {
   "display_name": "Python 3",
   "language": "python",
   "name": "python3"
  },
  "language_info": {
   "codemirror_mode": {
    "name": "ipython",
    "version": 3
   },
   "file_extension": ".py",
   "mimetype": "text/x-python",
   "name": "python",
   "nbconvert_exporter": "python",
   "pygments_lexer": "ipython3",
   "version": "3.8.3"
  }
 },
 "nbformat": 4,
 "nbformat_minor": 4
}
