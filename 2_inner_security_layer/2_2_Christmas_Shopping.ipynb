{
 "cells": [
  {
   "cell_type": "markdown",
   "metadata": {},
   "source": [
    "# Christmas Shopping\n"
   ]
  },
  {
   "cell_type": "markdown",
   "metadata": {},
   "source": [
    "The other night, the system admin needs to buy some things on this way home. He needs to visit a super market (s), a pharmacy (p), a hardware store (h), a drug store (d) and a toy store (t). In the city, there are two shops of each type: s1, s2, p1, p2, h1, h2, d1, d2, t1, t2. Travel times:\n",
    "\n",
    "         work s1  s2  p1  p2  h1  h2  d1  d2  t1  t2 home\n",
    "     work  -   7  22  18  16  20  18  19  10  22   3   -\n",
    "       s1  -   -   -  18  14  20  14  12   5  16   5  25\n",
    "       s2  -   -   -  19  14  20  12   3  10   6  17  10\n",
    "       p1  -  19  23   -   -   2   8  23  14  17  15  25\n",
    "       p2  -  15  17   -   -   6   2  17   9  11  12  20\n",
    "       h1  -  21  23   2   7   -   -  24  16  17  17  24\n",
    "       h2  -  14  14   7   2   -   -  14   8   8  13  17\n",
    "       d1  -  10   3  20  14  21  13   -   -   8  15  13\n",
    "       d2  -   5  12  13   9  15   8   -   -  11   6  20\n",
    "       t1  -  15   7  14   9  14   7   8  10   -   -   9\n",
    "       t2  -   7  20  14  13  17  14  18   8   -   -  28\n",
    "     home  -   -   -   -   -   -   -   -   -   -   -   -\n",
    "Labels on the left: starting points, labels on the top: destinations. For example, the trip from super market 2 (s2) to pharmacy 1 (p1) takes 19 minutes. Useless connections are left empty. Download table as csv.\n",
    "\n",
    "Find the shortest trip work - shop - shop - shop - shop - shop - home, such that each shop type is visited exactly"
   ]
  },
  {
   "cell_type": "code",
   "execution_count": 2,
   "metadata": {},
   "outputs": [
    {
     "name": "stdout",
     "output_type": "stream",
     "text": [
      "s1d2p2h2t1\n"
     ]
    }
   ],
   "source": [
    "from itertools import permutations\n",
    "import numpy as np\n",
    "from numpy import genfromtxt\n",
    "\n",
    "# Extract table from csv file\n",
    "dist = genfromtxt('2_2_christmas_shopping.csv', delimiter=',')\n",
    "\n",
    "# Store the shop names in a dictionary, relating it to the integer values\n",
    "shop_dict = {1:\"s1\", 2:\"s2\",\n",
    "             3:\"p1\", 4:\"p2\",\n",
    "             5:\"h1\", 6:\"h2\",\n",
    "             7:\"d1\", 8:\"d2\",\n",
    "             9:\"t1\", 10:\"t2\"}\n",
    "\n",
    "route = []\n",
    "\n",
    "# For each possible combinations of different types of store, generate permutations of all possible routes\n",
    "for i in range(1,3):\n",
    "    for j in range(3,5):\n",
    "        for k in range(5,7):\n",
    "            for l in range(7,9):\n",
    "                for m in range(9,11):\n",
    "                    route.append(list(permutations([i,j,k,l,m])))\n",
    "\n",
    "route = np.array(route)\n",
    "route = route.reshape(-1,5)\n",
    "\n",
    "# Combine the permutations with work at the beginning and home at the end\n",
    "work = np.zeros((route.shape[0],1))\n",
    "home = np.ones((route.shape[0],1))*11\n",
    "\n",
    "route = np.concatenate((work,route,home),axis=1)\n",
    "route = route.astype(int)\n",
    "\n",
    "# Initialize an array to store the distance for each corresponding route\n",
    "route_dist = np.zeros(route.shape[0])\n",
    "\n",
    "# Calculate distance for each corresponding route\n",
    "for i in range(len(route_dist)):\n",
    "    j = 0\n",
    "    while j < route.shape[1]-1:\n",
    "        route_dist[i] += dist[route[i,j],route[i,j+1]]\n",
    "        j += 1\n",
    "\n",
    "# Find the shortest route\n",
    "shortest = np.where(route_dist == min(route_dist))\n",
    "\n",
    "shortest = route[shortest].squeeze()\n",
    "shortest_route = ''\n",
    "\n",
    "# Convert the route from numbers to strings\n",
    "for i in range(1,len(shortest)-1):\n",
    "    shortest_route += shop_dict[shortest[i]]\n",
    "    \n",
    "print(shortest_route)"
   ]
  },
  {
   "cell_type": "markdown",
   "metadata": {},
   "source": [
    "## Solution = s1d2p2h2t1"
   ]
  }
 ],
 "metadata": {
  "kernelspec": {
   "display_name": "Python 3",
   "language": "python",
   "name": "python3"
  },
  "language_info": {
   "codemirror_mode": {
    "name": "ipython",
    "version": 3
   },
   "file_extension": ".py",
   "mimetype": "text/x-python",
   "name": "python",
   "nbconvert_exporter": "python",
   "pygments_lexer": "ipython3",
   "version": "3.8.3"
  }
 },
 "nbformat": 4,
 "nbformat_minor": 4
}
