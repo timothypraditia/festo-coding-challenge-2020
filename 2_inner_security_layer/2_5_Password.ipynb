{
 "cells": [
  {
   "cell_type": "markdown",
   "metadata": {},
   "source": [
    "# Inner Security Layer\n"
   ]
  },
  {
   "cell_type": "markdown",
   "metadata": {},
   "source": [
    "Brute force to find the password.\n",
    "Four characters of the password are known: yW and 3w, and md5-hash begins with 002a8a8b23d03e70."
   ]
  },
  {
   "cell_type": "code",
   "execution_count": 2,
   "metadata": {},
   "outputs": [
    {
     "name": "stdout",
     "output_type": "stream",
     "text": [
      "sQyWhn3w\n"
     ]
    }
   ],
   "source": [
    "import hashlib\n",
    "import itertools\n",
    "import string\n",
    "\n",
    "# Generate all possible characters as strings for the password and generate combinations of them\n",
    "low_case = string.ascii_lowercase\n",
    "up_case = string.ascii_uppercase\n",
    "nums = string.digits\n",
    "\n",
    "chars = low_case + up_case + nums\n",
    "\n",
    "comb = list(itertools.product(chars,repeat=2))\n",
    "\n",
    "# Known characters and md5-hash of the password\n",
    "first_str = 'yW'\n",
    "second_str = '3w'\n",
    "match = '002a8a8b23d03e70'\n",
    "\n",
    "# Define the iterables to return the combination of characters\n",
    "def comb_loop(n):\n",
    "    \"\"\"Produce pairs of combinations in range(n)\"\"\"\n",
    "    for i in range(n):\n",
    "        for j in range(n):\n",
    "            yield comb[i][0]+comb[i][1], comb[j][0]+comb[j][1]\n",
    "\n",
    "# Brute force through iterations to find the password matching the md5-hash\n",
    "for i,j in comb_loop(len(comb)):\n",
    "    full_str = i + first_str + j + second_str\n",
    "    md5_result = hashlib.md5(full_str.encode()).hexdigest()\n",
    "    if match in md5_result:\n",
    "        break\n",
    "\n",
    "print(full_str)"
   ]
  },
  {
   "cell_type": "markdown",
   "metadata": {},
   "source": [
    "## Password = sQyWhn3w"
   ]
  }
 ],
 "metadata": {
  "kernelspec": {
   "display_name": "Python 3",
   "language": "python",
   "name": "python3"
  },
  "language_info": {
   "codemirror_mode": {
    "name": "ipython",
    "version": 3
   },
   "file_extension": ".py",
   "mimetype": "text/x-python",
   "name": "python",
   "nbconvert_exporter": "python",
   "pygments_lexer": "ipython3",
   "version": "3.8.3"
  }
 },
 "nbformat": 4,
 "nbformat_minor": 4
}
