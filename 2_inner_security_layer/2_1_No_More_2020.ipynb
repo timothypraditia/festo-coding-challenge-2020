{
 "cells": [
  {
   "cell_type": "markdown",
   "metadata": {},
   "source": [
    "# No More 2020\n"
   ]
  },
  {
   "cell_type": "markdown",
   "metadata": {},
   "source": [
    "The year 2020 has been a terrible year for many industries, including the organized crime. Therefore, the management of THE EVIL COMPANY does not want to be reminded of the number 2020 in any kind of way.\n",
    "\n",
    "In the second building of the company, the following number scheme applies: A room number must not contain the digits 2-0-2-0 in this order, not even if there are more digits in between.\n",
    "\n",
    "For example, these numbers are not allowed any more: 2020, 20201, 205420, 20020, 12101020, whereas these numbers, for example, are still ok: 1, 2, 3, 7, 20, 200, 2021, 2002, 10022.\n",
    "\n",
    "Oh, and of course, the first room number is 1, not 0.\n",
    "\n",
    "The maintenance man needs to bring mail to the 1,000,000th room in the hallway. What is the room number of this room?"
   ]
  },
  {
   "cell_type": "code",
   "execution_count": 1,
   "metadata": {},
   "outputs": [
    {
     "name": "stdout",
     "output_type": "stream",
     "text": [
      "1001270\n"
     ]
    }
   ],
   "source": [
    "# Start from 0\n",
    "room_num = 0\n",
    "counter = 0\n",
    "\n",
    "# Iterate until 1,000,000-th room number is found\n",
    "while counter < 1000000:\n",
    "    room_num += 1\n",
    "    \n",
    "    # Convert the room number to string\n",
    "    room_temp = str(room_num)\n",
    "    \n",
    "    # If the room number contains less than 4 digits then it is acceptable\n",
    "    if len(room_temp) < 4:\n",
    "        counter += 1\n",
    "        \n",
    "    # Otherwise, iterate from the first digit until the last digit of the room number, and check whether they contain 2, 0, 2, and 0 in that order\n",
    "    else:\n",
    "        temp = False\n",
    "        i = 0\n",
    "        while i < len(room_temp):\n",
    "            if '2' in room_temp[i]:\n",
    "                i += 1\n",
    "                break\n",
    "            else:\n",
    "                i += 1\n",
    "        while i < len(room_temp):\n",
    "            if '0' in room_temp[i]:\n",
    "                i += 1\n",
    "                break\n",
    "            else:\n",
    "                i += 1\n",
    "        while i < len(room_temp):\n",
    "            if '2' in room_temp[i]:\n",
    "                i += 1\n",
    "                break\n",
    "            else:\n",
    "                i += 1\n",
    "        while i < len(room_temp):\n",
    "            if '0' in room_temp[i]:\n",
    "                i += 1\n",
    "                temp = True\n",
    "                break\n",
    "            else:\n",
    "                i += 1\n",
    "        \n",
    "        if temp == False:\n",
    "            counter += 1\n",
    "\n",
    "print(room_num)"
   ]
  },
  {
   "cell_type": "markdown",
   "metadata": {},
   "source": [
    "## Solution = 1001270"
   ]
  }
 ],
 "metadata": {
  "kernelspec": {
   "display_name": "Python 3",
   "language": "python",
   "name": "python3"
  },
  "language_info": {
   "codemirror_mode": {
    "name": "ipython",
    "version": 3
   },
   "file_extension": ".py",
   "mimetype": "text/x-python",
   "name": "python",
   "nbconvert_exporter": "python",
   "pygments_lexer": "ipython3",
   "version": "3.8.3"
  }
 },
 "nbformat": 4,
 "nbformat_minor": 4
}
