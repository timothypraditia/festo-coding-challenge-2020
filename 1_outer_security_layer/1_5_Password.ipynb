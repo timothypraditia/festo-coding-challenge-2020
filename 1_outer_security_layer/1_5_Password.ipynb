{
 "cells": [
  {
   "cell_type": "markdown",
   "metadata": {},
   "source": [
    "# Outer Security Layer\n"
   ]
  },
  {
   "cell_type": "markdown",
   "metadata": {},
   "source": [
    "Brute force to find the password.\n",
    "Last 9 characters of the password are known: 726300631 and md5-hash begins with 351635d71448baca."
   ]
  },
  {
   "cell_type": "code",
   "execution_count": 2,
   "metadata": {},
   "outputs": [
    {
     "name": "stdout",
     "output_type": "stream",
     "text": [
      "431726300631\n"
     ]
    }
   ],
   "source": [
    "import hashlib\n",
    "import itertools\n",
    "import string\n",
    "from sys import exit\n",
    "\n",
    "# Generate digits as strings for the password and generate combinations of them\n",
    "nums = string.digits\n",
    "comb = list(itertools.product(nums,repeat=3))\n",
    "\n",
    "# Known characters and md5-hash of the password\n",
    "end_str = '726300631'\n",
    "match = '351635d71448baca'\n",
    "\n",
    "# Brute force through iterations to find the password matching the md5-hash\n",
    "for i in range(len(comb)):\n",
    "    full_str = comb[i][0]+comb[i][1]+comb[i][2] + end_str\n",
    "    md5_result = hashlib.md5(full_str.encode()).hexdigest()\n",
    "    if match in md5_result:\n",
    "        print(full_str)\n",
    "        break"
   ]
  },
  {
   "cell_type": "markdown",
   "metadata": {},
   "source": [
    "## Password = 431726300631"
   ]
  }
 ],
 "metadata": {
  "kernelspec": {
   "display_name": "Python 3",
   "language": "python",
   "name": "python3"
  },
  "language_info": {
   "codemirror_mode": {
    "name": "ipython",
    "version": 3
   },
   "file_extension": ".py",
   "mimetype": "text/x-python",
   "name": "python",
   "nbconvert_exporter": "python",
   "pygments_lexer": "ipython3",
   "version": "3.8.3"
  }
 },
 "nbformat": 4,
 "nbformat_minor": 4
}
