{
 "cells": [
  {
   "cell_type": "markdown",
   "metadata": {},
   "source": [
    "# Five XOR Seven\n"
   ]
  },
  {
   "cell_type": "markdown",
   "metadata": {},
   "source": [
    "The maintenance man is tired of following the complicated rules enforced by the management. He will give you a clue about the password if you help him solve his problem:\n",
    "\n",
    "The maintenance man is responsible for delivering the internal mail to all employees. In the company, there are different buildings with different room numbering schemes. In the first building, room numbers must contain a digit 5 or a digit 7, but not both of them. For example 5, 17, 52, 55, 177 are all valid room numbers, but 24, 157 or 7005 are not.\n",
    "\n",
    "All rooms in the building are placed on one very long hallway. All valid room numbers are - of course - arranged in ascending order: 5, 7, 15 , 17 ...\n",
    "\n",
    "The maintenance man needs to bring mail to the 1000th room in the hallway. What is the room number of this room?"
   ]
  },
  {
   "cell_type": "code",
   "execution_count": 1,
   "metadata": {},
   "outputs": [
    {
     "name": "stdout",
     "output_type": "stream",
     "text": [
      "2379\n"
     ]
    }
   ],
   "source": [
    "import numpy as np\n",
    "\n",
    "# Start from 0\n",
    "room_num = 0\n",
    "counter = 0\n",
    "\n",
    "# Iterate until 1000-th room number is found\n",
    "while counter < 1000:\n",
    "    room_num += 1\n",
    "    \n",
    "    # Convert the room number to string\n",
    "    room_temp = str(room_num)\n",
    "    \n",
    "    # Check if the room number contains 5 and/or 7\n",
    "    case1 = '5' in room_temp\n",
    "    case2 = '7' in room_temp\n",
    "    \n",
    "    # if 5 XOR 7 is true, the room number is acceptable\n",
    "    if case1 ^ case2:\n",
    "        counter += 1\n",
    "    \n",
    "print(room_run)"
   ]
  },
  {
   "cell_type": "markdown",
   "metadata": {},
   "source": [
    "## Solution = 2379"
   ]
  }
 ],
 "metadata": {
  "kernelspec": {
   "display_name": "Python 3",
   "language": "python",
   "name": "python3"
  },
  "language_info": {
   "codemirror_mode": {
    "name": "ipython",
    "version": 3
   },
   "file_extension": ".py",
   "mimetype": "text/x-python",
   "name": "python",
   "nbconvert_exporter": "python",
   "pygments_lexer": "ipython3",
   "version": "3.8.3"
  }
 },
 "nbformat": 4,
 "nbformat_minor": 4
}
